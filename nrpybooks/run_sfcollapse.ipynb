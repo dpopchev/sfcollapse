{
 "cells": [
  {
   "cell_type": "code",
   "execution_count": 1,
   "id": "096f651d-cebd-42d4-b5c8-5a2c458f5bba",
   "metadata": {},
   "outputs": [],
   "source": [
    "import logging\n",
    "from sfcollapse.phenomena import run, make_run_aggregators"
   ]
  },
  {
   "cell_type": "code",
   "execution_count": 2,
   "id": "4b5e2410-28dc-432e-b3c0-77198e6e5b09",
   "metadata": {},
   "outputs": [],
   "source": [
    "logging.getLogger('sfcollapse.phenomena').setLevel(logging.INFO)\n",
    "if not logging.getLogger('sfcollapse.phenomena').handlers:\n",
    "    logging.getLogger('sfcollapse.phenomena').addHandler(logging.StreamHandler())"
   ]
  },
  {
   "cell_type": "code",
   "execution_count": 3,
   "id": "4ac82da9-10ee-436f-9bbe-722662ddc766",
   "metadata": {},
   "outputs": [
    {
     "name": "stderr",
     "output_type": "stream",
     "text": [
      "Running guess-0.3033189336650086 with amplitude = 0.3033189336650086\n",
      "END guess-0.3033189336650086, time ellapsed = 126.43\n",
      "Running guess-0.30331893485615546 with amplitude = 0.30331893485615546\n",
      "END guess-0.30331893485615546, time ellapsed = 121.50\n"
     ]
    }
   ],
   "source": [
    "run()"
   ]
  },
  {
   "cell_type": "code",
   "execution_count": null,
   "id": "fdf2e32f-1d44-4fc2-b695-d3d7c74da0a9",
   "metadata": {},
   "outputs": [],
   "source": []
  }
 ],
 "metadata": {
  "kernelspec": {
   "display_name": "Python 3 (ipykernel)",
   "language": "python",
   "name": "python3"
  },
  "language_info": {
   "codemirror_mode": {
    "name": "ipython",
    "version": 3
   },
   "file_extension": ".py",
   "mimetype": "text/x-python",
   "name": "python",
   "nbconvert_exporter": "python",
   "pygments_lexer": "ipython3",
   "version": "3.10.1"
  }
 },
 "nbformat": 4,
 "nbformat_minor": 5
}
