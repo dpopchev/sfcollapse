{
 "cells": [
  {
   "cell_type": "code",
   "execution_count": null,
   "id": "096f651d-cebd-42d4-b5c8-5a2c458f5bba",
   "metadata": {},
   "outputs": [],
   "source": [
    "import logging\n",
    "from sfcollapse.phenomena import run, make_run_aggregators"
   ]
  },
  {
   "cell_type": "code",
   "execution_count": null,
   "id": "4b5e2410-28dc-432e-b3c0-77198e6e5b09",
   "metadata": {},
   "outputs": [],
   "source": [
    "logging.getLogger('sfcollapse.phenomena').setLevel(logging.INFO)\n",
    "if not logging.getLogger('sfcollapse.phenomena').handlers:\n",
    "    logging.getLogger('sfcollapse.phenomena').addHandler(logging.StreamHandler())"
   ]
  },
  {
   "cell_type": "code",
   "execution_count": null,
   "id": "4ac82da9-10ee-436f-9bbe-722662ddc766",
   "metadata": {},
   "outputs": [],
   "source": [
    "run()"
   ]
  },
  {
   "cell_type": "code",
   "execution_count": null,
   "id": "c5b4d1ba-7b1f-4cda-8874-50a65e638e3e",
   "metadata": {},
   "outputs": [],
   "source": [
    "import matplotlib.pyplot as plt\n",
    "aggregators = make_run_aggregators()\n",
    "fig = plt.figure()\n",
    "ax = fig.subplots()\n",
    "from itertools import product\n",
    "sequence = (float(e*100) for e in range(0,9,3))\n",
    "\n",
    "for seq, name in product(sequence, aggregators.keys()):\n",
    "    aggregator = aggregators[name]\n",
    "    aggregator.get_data(seq).plot('xx0', 'sf', ax=ax, label=f'run-{name}-{seq}')\n",
    "_ = ax.legend(loc='upper right')"
   ]
  },
  {
   "cell_type": "code",
   "execution_count": null,
   "id": "c01df70f-6ae7-4622-b517-748a3c8793ed",
   "metadata": {},
   "outputs": [],
   "source": [
    "fig = plt.figure()\n",
    "ax = fig.subplots()\n",
    "ax.set_xlim(0,1200)\n",
    "for name, aggregator in aggregators.items():\n",
    "    aggregator.get_data_chage(aggregator.sequence).plot(\n",
    "        'seq', \n",
    "        'alpha', \n",
    "        ax = ax, \n",
    "        label = f'run-{name}'\n",
    "    )\n",
    "_ = ax.legend(loc='upper left')"
   ]
  },
  {
   "cell_type": "code",
   "execution_count": null,
   "id": "0182f970-4811-4159-88ee-a634ca082957",
   "metadata": {},
   "outputs": [],
   "source": []
  }
 ],
 "metadata": {
  "kernelspec": {
   "display_name": "Python 3 (ipykernel)",
   "language": "python",
   "name": "python3"
  },
  "language_info": {
   "codemirror_mode": {
    "name": "ipython",
    "version": 3
   },
   "file_extension": ".py",
   "mimetype": "text/x-python",
   "name": "python",
   "nbconvert_exporter": "python",
   "pygments_lexer": "ipython3",
   "version": "3.10.1"
  }
 },
 "nbformat": 4,
 "nbformat_minor": 5
}
